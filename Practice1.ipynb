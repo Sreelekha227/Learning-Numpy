{
 "cells": [
  {
   "cell_type": "markdown",
   "metadata": {},
   "source": [
    "**Importing Libraries**"
   ]
  },
  {
   "cell_type": "code",
   "execution_count": 7,
   "metadata": {},
   "outputs": [],
   "source": [
    "import numpy as np"
   ]
  },
  {
   "cell_type": "markdown",
   "metadata": {},
   "source": [
    "**Creating numpy arrays**"
   ]
  },
  {
   "cell_type": "code",
   "execution_count": 8,
   "metadata": {},
   "outputs": [
    {
     "name": "stdout",
     "output_type": "stream",
     "text": [
      "[1 2 3 4]\n"
     ]
    }
   ],
   "source": [
    "# Declaring 1D Array\n",
    "Array1 = np.array([1,2,3,4])\n",
    "print(Array1)"
   ]
  },
  {
   "cell_type": "code",
   "execution_count": 41,
   "metadata": {},
   "outputs": [
    {
     "name": "stdout",
     "output_type": "stream",
     "text": [
      "[[ 1  2  3  4]\n",
      " [ 5  6  7  8]\n",
      " [ 9 10 11 12]]\n"
     ]
    }
   ],
   "source": [
    "# Declaring 2D Array\n",
    "Array2 = np.array([[1,2,3,4],[5,6,7,8],[9,10,11,12]])\n",
    "print(Array2)"
   ]
  },
  {
   "cell_type": "code",
   "execution_count": 18,
   "metadata": {},
   "outputs": [
    {
     "name": "stdout",
     "output_type": "stream",
     "text": [
      "[[[ 1  2  3  4]\n",
      "  [ 1  2  3  4]]\n",
      "\n",
      " [[ 5  6  7  8]\n",
      "  [ 5  6  7  8]]\n",
      "\n",
      " [[ 9 10 11 12]\n",
      "  [ 9 10 11 12]]]\n"
     ]
    }
   ],
   "source": [
    "# Declaring 3D Array\n",
    "Array3 = np.array([[[1,2,3,4],[1,2,3,4]],\n",
    "                   [[5,6,7,8],[5,6,7,8]],\n",
    "                   [[9,10,11,12],[9,10,11,12]]])\n",
    "print(Array3)"
   ]
  },
  {
   "cell_type": "code",
   "execution_count": null,
   "metadata": {},
   "outputs": [],
   "source": [
    "np.array?"
   ]
  },
  {
   "cell_type": "markdown",
   "metadata": {},
   "source": [
    "**Basic Numpy Attributes**"
   ]
  },
  {
   "cell_type": "code",
   "execution_count": 26,
   "metadata": {},
   "outputs": [
    {
     "name": "stdout",
     "output_type": "stream",
     "text": [
      "Datatype - int32\n",
      "Matrix Shape - (4,)\n",
      "Dimension - 1\n",
      "size - 4\n",
      "item size in Bytes 4\n",
      "array size in Bytes 16\n"
     ]
    }
   ],
   "source": [
    "print(\"Datatype -\",Array1.dtype)\n",
    "print(\"Matrix Shape -\",Array1.shape)\n",
    "print(\"Dimension -\",Array1.ndim)\n",
    "print(\"size -\",Array1.size)\n",
    "print(\"item size in Bytes\",Array1.itemsize)\n",
    "print(\"array size in Bytes\",Array1.nbytes)"
   ]
  },
  {
   "cell_type": "code",
   "execution_count": 32,
   "metadata": {},
   "outputs": [
    {
     "name": "stdout",
     "output_type": "stream",
     "text": [
      "Datatype - float64\n",
      "Datatype - <U11\n"
     ]
    }
   ],
   "source": [
    "Array4 = np.array([1,2,3,4,5], dtype='float64') # for every dtype size nd memory changes according to it\n",
    "print(\"Datatype -\",Array4.dtype)\n",
    "\n",
    "Array4 = np.array([1,2,3,4,5,'sas']) # String dtype\n",
    "print(\"Datatype -\",Array4.dtype)"
   ]
  },
  {
   "cell_type": "code",
   "execution_count": 36,
   "metadata": {},
   "outputs": [
    {
     "data": {
      "text/plain": [
       "array([[[1, 2, 3, 4, 5]]])"
      ]
     },
     "execution_count": 36,
     "metadata": {},
     "output_type": "execute_result"
    }
   ],
   "source": [
    "# Convert to Multidimensional array\n",
    "Array5 = np.array([1,2,3,4,5], ndmin=3)\n",
    "Array5"
   ]
  },
  {
   "cell_type": "code",
   "execution_count": 48,
   "metadata": {},
   "outputs": [
    {
     "name": "stdout",
     "output_type": "stream",
     "text": [
      "[1 2 3 4]\n",
      "[5 6 7 8]\n",
      "[ 9 10 11 12]\n",
      "[1 2 3 4]\n"
     ]
    }
   ],
   "source": [
    "print(Array2[0]) # -> outer array\n",
    "print(Array2[1]) # -> next layer array\n",
    "print(Array2[2]) # -> next layer array -> here innermost\n",
    "\n",
    "print(Array3[0][0])"
   ]
  },
  {
   "cell_type": "code",
   "execution_count": null,
   "metadata": {},
   "outputs": [],
   "source": []
  }
 ],
 "metadata": {
  "kernelspec": {
   "display_name": "Python 3",
   "language": "python",
   "name": "python3"
  },
  "language_info": {
   "codemirror_mode": {
    "name": "ipython",
    "version": 3
   },
   "file_extension": ".py",
   "mimetype": "text/x-python",
   "name": "python",
   "nbconvert_exporter": "python",
   "pygments_lexer": "ipython3",
   "version": "3.12.4"
  }
 },
 "nbformat": 4,
 "nbformat_minor": 2
}
